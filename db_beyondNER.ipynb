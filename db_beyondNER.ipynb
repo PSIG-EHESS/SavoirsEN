{
 "cells": [
  {
   "cell_type": "markdown",
   "id": "0b90c121",
   "metadata": {},
   "source": [
    "# 1 - Step\n",
    "## creation of hand annotatted files for nerbeyond\n",
    "### import all files"
   ]
  },
  {
   "cell_type": "code",
   "execution_count": 1,
   "id": "244d20b5",
   "metadata": {
    "scrolled": true
   },
   "outputs": [],
   "source": [
    "# retrives file support\n",
    "import glob\n",
    "# inform the path\n",
    "for file_path in glob.iglob('db_savoirs/*.xml'):\n",
    "    print(file_path)"
   ]
  },
  {
   "cell_type": "markdown",
   "id": "b12a1f2e",
   "metadata": {},
   "source": [
    "## 1.a\n",
    "### count it to verify how many"
   ]
  },
  {
   "cell_type": "code",
   "execution_count": 2,
   "id": "6f98b23e",
   "metadata": {},
   "outputs": [
    {
     "ename": "FileNotFoundError",
     "evalue": "[Errno 2] No such file or directory: 'db_savoirs'",
     "output_type": "error",
     "traceback": [
      "\u001b[0;31m---------------------------------------------------------------------------\u001b[0m",
      "\u001b[0;31mFileNotFoundError\u001b[0m                         Traceback (most recent call last)",
      "\u001b[0;32m<ipython-input-2-bc44d14357c2>\u001b[0m in \u001b[0;36m<module>\u001b[0;34m\u001b[0m\n\u001b[1;32m      2\u001b[0m \u001b[0;32mimport\u001b[0m \u001b[0mos\u001b[0m\u001b[0;34m\u001b[0m\u001b[0;34m\u001b[0m\u001b[0m\n\u001b[1;32m      3\u001b[0m \u001b[0;31m# index of quantity\u001b[0m\u001b[0;34m\u001b[0m\u001b[0;34m\u001b[0m\u001b[0;34m\u001b[0m\u001b[0m\n\u001b[0;32m----> 4\u001b[0;31m \u001b[0mprint\u001b[0m\u001b[0;34m(\u001b[0m\u001b[0mlen\u001b[0m\u001b[0;34m(\u001b[0m\u001b[0;34m[\u001b[0m\u001b[0miq\u001b[0m \u001b[0;32mfor\u001b[0m \u001b[0miq\u001b[0m \u001b[0;32min\u001b[0m \u001b[0mos\u001b[0m\u001b[0;34m.\u001b[0m\u001b[0mscandir\u001b[0m\u001b[0;34m(\u001b[0m\u001b[0;34m'db_savoirs'\u001b[0m\u001b[0;34m)\u001b[0m\u001b[0;34m]\u001b[0m\u001b[0;34m)\u001b[0m\u001b[0;34m)\u001b[0m\u001b[0;34m\u001b[0m\u001b[0;34m\u001b[0m\u001b[0m\n\u001b[0m",
      "\u001b[0;31mFileNotFoundError\u001b[0m: [Errno 2] No such file or directory: 'db_savoirs'"
     ]
    }
   ],
   "source": [
    "# operation system\n",
    "import os\n",
    "# index of quantity \n",
    "print(len([iq for iq in os.scandir('db_savoirs')]))"
   ]
  },
  {
   "cell_type": "markdown",
   "id": "848a885b",
   "metadata": {},
   "source": [
    "# 2 - Step\n",
    "## Remove all attributes\n",
    "## Remove all tags outside from text part"
   ]
  },
  {
   "cell_type": "code",
   "execution_count": null,
   "id": "1418a0ae",
   "metadata": {
    "scrolled": true
   },
   "outputs": [],
   "source": [
    "# retrieve files\n",
    "import glob\n",
    "# operation system\n",
    "import os\n",
    "# library to work with html and xml files\n",
    "from bs4 import BeautifulSoup as BeautifulSoup\n",
    "\n",
    "# import a directory\n",
    "input_dir = \"db_savoirs/\"\n",
    "\n",
    "# open all xml files in this directory \n",
    "for file_name in glob.glob(input_dir + \"*.xml\"):\n",
    "    #named it as fp\n",
    "    with open(file_name) as fp:\n",
    "        #print(fp.read())\n",
    "        \n",
    "        # apply soap\n",
    "        soup = BeautifulSoup(fp)\n",
    "        # extract text part\n",
    "        first = soup.find('text')\n",
    "        # delete all titlepage tags    \n",
    "        for tp in first.findAll('titlepage'):\n",
    "            tp.decompose()\n",
    "        # delete all listbibl tags\n",
    "        for lb in first.findAll('listbibl'):\n",
    "            lb.decompose()\n",
    "        #delet all attributes    \n",
    "        for tag in first.findAll(True): \n",
    "            del tag.attrs\n",
    "                \n",
    "\n",
    "        # directory out\n",
    "        output_dir = \"db_xml/\"\n",
    "        # new files out with original's name plus _text and its new format .txt\n",
    "        results_file = \"%s%s_text.xml\"%(output_dir, os.path.splitext(os.path.basename(file_name))[0])\n",
    "        print(results_file)\n",
    "        # save it as blabla_text.txt\n",
    "        with open(results_file, 'w') as fpout: \n",
    "            fpout.write(str(first))\n",
    "            #print to verify the result\n",
    "            #print(first)"
   ]
  },
  {
   "cell_type": "markdown",
   "id": "cc3089ad",
   "metadata": {},
   "source": [
    "## 2.a\n",
    "### Remove all tags inside of text part\n",
    "### Remove all texts format, bring it to its natural form "
   ]
  },
  {
   "cell_type": "code",
   "execution_count": null,
   "id": "201fe44b",
   "metadata": {
    "scrolled": true
   },
   "outputs": [],
   "source": [
    "# retrieve files\n",
    "import glob\n",
    "# os path\n",
    "import os.path\n",
    "# operation system\n",
    "import os\n",
    "# import regular expression module\n",
    "import re\n",
    "\n",
    "# import the directory with the files .txt\n",
    "input_dir = \"db_xml/\"\n",
    "\n",
    "# open all xml files in this directory \n",
    "for file_name in glob.glob(input_dir + \"*.xml\"):\n",
    "    #named it as fp\n",
    "    with open(file_name) as fp:\n",
    "        # print all files\n",
    "        #print (fp.read())\n",
    "        \n",
    "        # imforn the tags which will be replaced and what will be located in their place \n",
    "        _replacements = {\n",
    "            '<persname>': '[',\n",
    "            '</persname>': ']',\n",
    "            '<placename>': '{',\n",
    "            '</placename>': '}',\n",
    "            '<text xml:id=\"text\">':'**',\n",
    "            '</text>':'*',\n",
    "\n",
    "                    }\n",
    "\n",
    "        def _do_replace(fp):\n",
    "            return _replacements.get(fp.group(0))\n",
    "\n",
    "        def replace_tags(fp, _re=re.compile('|'.join(re.escape(r) for r in _replacements))):\n",
    "            return _re.sub(_do_replace, fp)\n",
    "\n",
    "        new_step = (replace_tags(str(fp.read())))\n",
    "        \n",
    "        #print(new_step) OK\n",
    "\n",
    "        # as it says \n",
    "        TAG_REMOVE = re.compile(r'<[^>]+>')\n",
    "        # as it says\n",
    "        def remove_tags(new_step):\n",
    "            return TAG_REMOVE.sub('', new_step)\n",
    "            # end of process\n",
    "        next_step = (remove_tags(str(new_step)))\n",
    "        #print(next_step) OK\n",
    "        new_replacements = {\n",
    "            '[': '<persName.name>',\n",
    "            ']': '</persName.name>',\n",
    "            '{': '<top.gr>',\n",
    "            '}': '</top.gr>',\n",
    "            '**':'<text>',\n",
    "            '*':'</text>'\n",
    "\n",
    "                    }\n",
    "\n",
    "        def _again_replace(next_step):\n",
    "            return new_replacements.get(next_step.group(0))\n",
    "\n",
    "        def place_tags(next_step, _re=re.compile('|'.join(re.escape(r) for r in new_replacements))):\n",
    "            return _re.sub(_again_replace, next_step)\n",
    "\n",
    "        last_step = (place_tags(str(next_step)))\n",
    "        #print(last_step)\n",
    "        finished = last_step\n",
    "\n",
    "        # text without form\n",
    "        new = (\" \".join(finished.split()))\n",
    "        #print(new_text)\n",
    "        \n",
    "                \n",
    "        # directory out\n",
    "        output_dir = \"db_beyond/\"\n",
    "        # new files out with original's name plus _text and its new format .txt\n",
    "        results_file = \"%s%s_beyond.xml\"%(output_dir, os.path.splitext(os.path.basename(file_name))[0])\n",
    "        print(results_file)\n",
    "        # save it as (file name_text)_beyond.xml\n",
    "        with open(results_file, 'w') as fp_out: \n",
    "            fp_out.write(str(new))\n",
    "            # print it to verify the result\n",
    "            #print(new)"
   ]
  },
  {
   "cell_type": "code",
   "execution_count": null,
   "id": "5fdd4474",
   "metadata": {},
   "outputs": [],
   "source": []
  }
 ],
 "metadata": {
  "kernelspec": {
   "display_name": "Python 3",
   "language": "python",
   "name": "python3"
  },
  "language_info": {
   "codemirror_mode": {
    "name": "ipython",
    "version": 3
   },
   "file_extension": ".py",
   "mimetype": "text/x-python",
   "name": "python",
   "nbconvert_exporter": "python",
   "pygments_lexer": "ipython3",
   "version": "3.8.5"
  }
 },
 "nbformat": 4,
 "nbformat_minor": 5
}
