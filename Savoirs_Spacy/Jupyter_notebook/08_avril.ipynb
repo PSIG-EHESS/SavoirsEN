{
 "cells": [
  {
   "cell_type": "markdown",
   "id": "6737343e",
   "metadata": {},
   "source": [
    "# 08 avril test\n",
    "\n",
    "*my first test*\n",
    "\n",
    "## test procedure ## \n",
    "\n",
    "- import the xml file\n",
    "- open it to verify, if everything is ok\n",
    "- undress the file of its tags\n",
    "- transform it into a txt file\n",
    "- import *SpaCY*\n",
    "- open it with *SpaCy*\n",
    "- verify if the tags and labels are approximately close to the file reality \n",
    "- continuing the **procedure**\n",
    "\n",
    "\n",
    "### verify the file accuracy \n",
    "\n",
    "\n",
    "### informations to keep in mind\n",
    "\n",
    "    ! = bash commmand\n",
    "    %lsmagic = special commands\n",
    "    %% = block command ( i do not know yet how to explain it better)\n",
    "    \n",
    "    \n",
    "    https://jakevdp.github.io/PythonDataScienceHandbook/04.00-introduction-to-matplotlib.html\n",
    "\n"
   ]
  },
  {
   "cell_type": "code",
   "execution_count": null,
   "id": "8000b601",
   "metadata": {},
   "outputs": [],
   "source": [
    "%lsmagic\n"
   ]
  },
  {
   "cell_type": "code",
   "execution_count": null,
   "id": "e797b800",
   "metadata": {},
   "outputs": [],
   "source": [
    "!pip list"
   ]
  },
  {
   "cell_type": "code",
   "execution_count": null,
   "id": "2925a5bf",
   "metadata": {},
   "outputs": [],
   "source": [
    "%pwd\n"
   ]
  },
  {
   "cell_type": "code",
   "execution_count": null,
   "id": "3622dd3f",
   "metadata": {},
   "outputs": [],
   "source": [
    "%ls"
   ]
  },
  {
   "cell_type": "code",
   "execution_count": null,
   "id": "93ac5554",
   "metadata": {},
   "outputs": [],
   "source": [
    "%matplotlib\n"
   ]
  },
  {
   "cell_type": "code",
   "execution_count": null,
   "id": "874cc5e2",
   "metadata": {},
   "outputs": [],
   "source": [
    "import matplotlib.pyplot as plt"
   ]
  },
  {
   "cell_type": "code",
   "execution_count": null,
   "id": "a67d0523",
   "metadata": {},
   "outputs": [],
   "source": [
    "%matplotlib inline"
   ]
  },
  {
   "cell_type": "code",
   "execution_count": null,
   "id": "9cc29364",
   "metadata": {},
   "outputs": [],
   "source": []
  }
 ],
 "metadata": {
  "kernelspec": {
   "display_name": "Python 3",
   "language": "python",
   "name": "python3"
  },
  "language_info": {
   "codemirror_mode": {
    "name": "ipython",
    "version": 3
   },
   "file_extension": ".py",
   "mimetype": "text/x-python",
   "name": "python",
   "nbconvert_exporter": "python",
   "pygments_lexer": "ipython3",
   "version": "3.8.5"
  }
 },
 "nbformat": 4,
 "nbformat_minor": 5
}
