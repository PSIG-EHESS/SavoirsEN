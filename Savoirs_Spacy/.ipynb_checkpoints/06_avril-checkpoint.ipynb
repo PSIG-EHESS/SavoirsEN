{
 "cells": [
  {
   "cell_type": "code",
   "execution_count": 1,
   "id": "compressed-bumper",
   "metadata": {},
   "outputs": [
    {
     "name": "stdout",
     "output_type": "stream",
     "text": [
      "hello world\n"
     ]
    }
   ],
   "source": [
    "print(\"hello world\")"
   ]
  },
  {
   "cell_type": "code",
   "execution_count": 1,
   "id": "failing-veteran",
   "metadata": {},
   "outputs": [],
   "source": [
    "import spacy\n",
    "nlp = spacy.load(\"fr_core_web_lg\")\n",
    "nlp.max_length = 2500000\n"
   ]
  },
  {
   "cell_type": "code",
   "execution_count": null,
   "id": "sized-appreciation",
   "metadata": {},
   "outputs": [],
   "source": [
    "def read_text(file_name):\n",
    "    with open (file_name, \"r\", encoding=\"utf_8\") as myfile:\n",
    "        lines = list(line for line in (l.strip() for l in myfile) if line)\n",
    "    return str(lines)  \n",
    "\n",
    "data_je = read_text(\"BNU_01_Didier.xml\")\n"
   ]
  },
  {
   "cell_type": "code",
   "execution_count": null,
   "id": "generous-platform",
   "metadata": {},
   "outputs": [],
   "source": []
  },
  {
   "cell_type": "code",
   "execution_count": null,
   "id": "induced-intervention",
   "metadata": {},
   "outputs": [],
   "source": []
  },
  {
   "cell_type": "code",
   "execution_count": null,
   "id": "employed-martial",
   "metadata": {},
   "outputs": [],
   "source": []
  },
  {
   "cell_type": "code",
   "execution_count": null,
   "id": "worth-tunisia",
   "metadata": {},
   "outputs": [],
   "source": []
  }
 ],
 "metadata": {
  "kernelspec": {
   "display_name": "Python 3",
   "language": "python",
   "name": "python3"
  },
  "language_info": {
   "codemirror_mode": {
    "name": "ipython",
    "version": 3
   },
   "file_extension": ".py",
   "mimetype": "text/x-python",
   "name": "python",
   "nbconvert_exporter": "python",
   "pygments_lexer": "ipython3",
   "version": "3.8.5"
  }
 },
 "nbformat": 4,
 "nbformat_minor": 5
}
