{
 "cells": [
  {
   "cell_type": "markdown",
   "id": "761bb904",
   "metadata": {},
   "source": [
    "# 1 - Step\n",
    "## import the files from the directory"
   ]
  },
  {
   "cell_type": "code",
   "execution_count": null,
   "id": "945c0b0d",
   "metadata": {},
   "outputs": [],
   "source": [
    "# retrives file support\n",
    "import glob\n",
    "# inform the path\n",
    "\n",
    "for file_path in glob.iglob('db_conll/*.conll'):\n",
    "    f_name = (file_path)\n",
    "     \n",
    "    #print(f_name)\n",
    "   "
   ]
  },
  {
   "cell_type": "markdown",
   "id": "b6820f0d",
   "metadata": {},
   "source": [
    "## 1.a\n",
    "### open the file into a variable"
   ]
  },
  {
   "cell_type": "code",
   "execution_count": null,
   "id": "44765d5d",
   "metadata": {},
   "outputs": [],
   "source": [
    "# operation system\n",
    "import os\n",
    "# regular expression\n",
    "import re\n",
    "# retrives file support\n",
    "import glob\n",
    "# inform the path\n",
    "for file_path in glob.iglob('db_conll/*.conll'):\n",
    "    #transform path into a readable file\n",
    "    f_name = (file_path)\n",
    "    #print(f_name)\n",
    "    \n",
    "    # open the variable to be read and split into words\n",
    "    with open(f_name, 'r', encoding='utf8') as f:\n",
    "        # read and split into words to count word in file\n",
    "        text = f.read()\n",
    "        #print(text)\n",
    "        \n",
    "    _replacements = {\n",
    "            'B-TOP_GR': 'B-LOC',\n",
    "            'B-PERSNAME_NAME': 'B-PER',\n",
    "            'I-PERSNAME_NAME': 'I-PER',\n",
    "            'I-TOP_GR': 'I-LOC',\n",
    "            }\n",
    "\n",
    "    def _do_replace(text):\n",
    "        return _replacements.get(text.group(0))\n",
    "\n",
    "    def replace_tags(text, _re=re.compile('|'.join(re.escape(r) for r in _replacements))):\n",
    "        return _re.sub(_do_replace, text)\n",
    "\n",
    "    result = (replace_tags(text))\n",
    "    #print(result)\n",
    "    \n",
    "    # directory out\n",
    "    output_dir = \"db_BIO/\"\n",
    "    # new files out with original's name plus _text and its new format .txt\n",
    "    results_file = \"%s%s_BIO.conll\"%(output_dir, os.path.splitext(os.path.basename(f_name))[0])\n",
    "    print(results_file)\n",
    "    # save it as blabla_text.txt\n",
    "    with open(results_file, 'w') as fpout: \n",
    "        fpout.write(str(result))\n",
    "        #print to verify the result\n",
    "        #print(first)\n"
   ]
  },
  {
   "cell_type": "code",
   "execution_count": 1,
   "id": "24ae3ccb",
   "metadata": {},
   "outputs": [
    {
     "name": "stdout",
     "output_type": "stream",
     "text": [
      "/Users/alexsoares/Desktop/EHESS/dev/Savoirs_env/github\r\n"
     ]
    }
   ],
   "source": [
    "!pwd\n"
   ]
  },
  {
   "cell_type": "code",
   "execution_count": null,
   "id": "a7d9f767",
   "metadata": {},
   "outputs": [],
   "source": []
  }
 ],
 "metadata": {
  "kernelspec": {
   "display_name": "Python 3",
   "language": "python",
   "name": "python3"
  },
  "language_info": {
   "codemirror_mode": {
    "name": "ipython",
    "version": 3
   },
   "file_extension": ".py",
   "mimetype": "text/x-python",
   "name": "python",
   "nbconvert_exporter": "python",
   "pygments_lexer": "ipython3",
   "version": "3.8.5"
  }
 },
 "nbformat": 4,
 "nbformat_minor": 5
}
