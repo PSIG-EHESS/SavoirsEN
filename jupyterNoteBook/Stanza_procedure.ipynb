{
 "cells": [
  {
   "cell_type": "code",
   "execution_count": null,
   "id": "4b948ba5",
   "metadata": {},
   "outputs": [
    {
     "name": "stdout",
     "output_type": "stream",
     "text": [
      "\u001b[32m[I 10:23:52.073 NotebookApp]\u001b[m The port 8888 is already in use, trying another port.\n",
      "\u001b[32m[I 10:23:52.079 NotebookApp]\u001b[m Serving notebooks from local directory: /Users/alexsoares/Desktop/EHESS/dev/Savoirs_env\n",
      "\u001b[32m[I 10:23:52.079 NotebookApp]\u001b[m Jupyter Notebook 6.3.0 is running at:\n",
      "\u001b[32m[I 10:23:52.079 NotebookApp]\u001b[m http://localhost:8889/?token=29d1464e360eb30dbdd504c3157e98a190c970d81f6164af\n",
      "\u001b[32m[I 10:23:52.079 NotebookApp]\u001b[m  or http://127.0.0.1:8889/?token=29d1464e360eb30dbdd504c3157e98a190c970d81f6164af\n",
      "\u001b[32m[I 10:23:52.079 NotebookApp]\u001b[m Use Control-C to stop this server and shut down all kernels (twice to skip confirmation).\n",
      "\u001b[35m[C 10:23:52.097 NotebookApp]\u001b[m \n",
      "    \n",
      "    To access the notebook, open this file in a browser:\n",
      "        file:///Users/alexsoares/Library/Jupyter/runtime/nbserver-976-open.html\n",
      "    Or copy and paste one of these URLs:\n",
      "        http://localhost:8889/?token=29d1464e360eb30dbdd504c3157e98a190c970d81f6164af\n",
      "     or http://127.0.0.1:8889/?token=29d1464e360eb30dbdd504c3157e98a190c970d81f6164af\n"
     ]
    }
   ],
   "source": [
    "#!pwd\n",
    "#import stanza\n",
    "#stanza.download('fr')\n",
    "\n",
    "# Increases the jupyter notebook capacity of data\n",
    "!jupyter notebook --NotebookApp.iopub_data_rate_limit=1.0e10"
   ]
  },
  {
   "cell_type": "code",
   "execution_count": 8,
   "id": "befe7a75",
   "metadata": {},
   "outputs": [
    {
     "name": "stderr",
     "output_type": "stream",
     "text": [
      "2021-06-29 18:34:46 INFO: Loading these models for language: fr (French):\n",
      "=======================\n",
      "| Processor | Package |\n",
      "-----------------------\n",
      "| tokenize  | gsd     |\n",
      "| ner       | wikiner |\n",
      "=======================\n",
      "\n",
      "2021-06-29 18:34:46 INFO: Use device: cpu\n",
      "2021-06-29 18:34:46 INFO: Loading: tokenize\n",
      "2021-06-29 18:34:46 INFO: Loading: ner\n",
      "2021-06-29 18:34:50 INFO: Done loading processors!\n"
     ]
    }
   ],
   "source": [
    "# -*- coding: UTF-8 -*-\n",
    "#regex\n",
    "import re\n",
    "# NLP module\n",
    "import stanza, os\n",
    "\n",
    "#location directory \n",
    "location = '/Users/alexsoares/Desktop/EHESS/dev/Savoirs_Spacy/test_db/'\n",
    "\n",
    "# import the model\n",
    "nlp = stanza.Pipeline(lang='fr', processors='tokenize,ner', tokenize_pretokenized=True)\n",
    "\n",
    "# apply the loop\n",
    "for r, d, f in os.walk(location):\n",
    "    for item in f:\n",
    "        if item.endswith('conll.txt'):\n",
    "            with open(os.path.join(r, item)) as fn:\n",
    "                item2 = re.sub(\"_Stanza.txt\", \"\", item)\n",
    "                item2 = \"prediction\" + item2\n",
    "                r2 = re.sub(\".+(/.+?)$\", \"/Users/alexsoares/Desktop/EHESS/dev/Savoirs_Spacy/test_db/\", r)\n",
    "                pathtouse = str(os.path.join(r2, item2))+\"_BIO.tsv\"\n",
    "                fop = open(pathtouse, \"w\")\n",
    "                print(pathtouse)\n",
    "                words = [[line.strip() for line in fn]]\n",
    "                #print(words)\n",
    "                doc = nlp(words)\n",
    "                for sent in doc.sentences:\n",
    "                    for token in sent.tokens:\n",
    "                        fop.write(token.text+\"\\t\"+token.ner+\"\\n\")\n",
    "                fop.close()"
   ]
  },
  {
   "cell_type": "code",
   "execution_count": null,
   "id": "10987e9b",
   "metadata": {},
   "outputs": [],
   "source": []
  },
  {
   "cell_type": "code",
   "execution_count": null,
   "id": "5a6fbc45",
   "metadata": {},
   "outputs": [],
   "source": []
  },
  {
   "cell_type": "code",
   "execution_count": null,
   "id": "80dcecd5",
   "metadata": {},
   "outputs": [],
   "source": []
  },
  {
   "cell_type": "code",
   "execution_count": null,
   "id": "b70f742b",
   "metadata": {},
   "outputs": [],
   "source": []
  },
  {
   "cell_type": "code",
   "execution_count": null,
   "id": "b9c59967",
   "metadata": {},
   "outputs": [],
   "source": []
  },
  {
   "cell_type": "code",
   "execution_count": null,
   "id": "89284cdf",
   "metadata": {},
   "outputs": [],
   "source": []
  },
  {
   "cell_type": "code",
   "execution_count": null,
   "id": "3562e4ce",
   "metadata": {},
   "outputs": [],
   "source": []
  },
  {
   "cell_type": "code",
   "execution_count": null,
   "id": "268dfe0e",
   "metadata": {},
   "outputs": [],
   "source": []
  },
  {
   "cell_type": "code",
   "execution_count": null,
   "id": "4d819106",
   "metadata": {},
   "outputs": [],
   "source": []
  },
  {
   "cell_type": "code",
   "execution_count": null,
   "id": "72522650",
   "metadata": {},
   "outputs": [],
   "source": []
  },
  {
   "cell_type": "code",
   "execution_count": null,
   "id": "f6cbebcc",
   "metadata": {},
   "outputs": [],
   "source": []
  },
  {
   "cell_type": "code",
   "execution_count": null,
   "id": "9d85143f",
   "metadata": {},
   "outputs": [],
   "source": []
  }
 ],
 "metadata": {
  "kernelspec": {
   "display_name": "Python 3",
   "language": "python",
   "name": "python3"
  },
  "language_info": {
   "codemirror_mode": {
    "name": "ipython",
    "version": 3
   },
   "file_extension": ".py",
   "mimetype": "text/x-python",
   "name": "python",
   "nbconvert_exporter": "python",
   "pygments_lexer": "ipython3",
   "version": "3.8.5"
  }
 },
 "nbformat": 4,
 "nbformat_minor": 5
}
