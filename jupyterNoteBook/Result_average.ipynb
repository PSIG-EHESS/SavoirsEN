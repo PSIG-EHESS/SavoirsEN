{
 "cells": [
  {
   "cell_type": "markdown",
   "id": "924ac674",
   "metadata": {},
   "source": [
    "# 1 - Step\n",
    "## read the csv file ( precision_rappel ) to verify its result"
   ]
  },
  {
   "cell_type": "code",
   "execution_count": 1,
   "id": "7ed3f033",
   "metadata": {},
   "outputs": [
    {
     "ename": "FileNotFoundError",
     "evalue": "[Errno 2] No such file or directory: 'db_results/SpaCy_precision_rappel/precision_rappel_BERT/BNU_01_Didier_text_SpaCy_bert_BIO_prediction_precision_rappel.csv'",
     "output_type": "error",
     "traceback": [
      "\u001b[0;31m---------------------------------------------------------------------------\u001b[0m",
      "\u001b[0;31mFileNotFoundError\u001b[0m                         Traceback (most recent call last)",
      "\u001b[0;32m<ipython-input-1-2cf30109cce4>\u001b[0m in \u001b[0;36m<module>\u001b[0;34m\u001b[0m\n\u001b[1;32m      2\u001b[0m \u001b[0;32mimport\u001b[0m \u001b[0mcsv\u001b[0m\u001b[0;34m\u001b[0m\u001b[0;34m\u001b[0m\u001b[0m\n\u001b[1;32m      3\u001b[0m \u001b[0;34m\u001b[0m\u001b[0m\n\u001b[0;32m----> 4\u001b[0;31m \u001b[0;32mwith\u001b[0m \u001b[0mopen\u001b[0m\u001b[0;34m(\u001b[0m\u001b[0;34m'db_results/SpaCy_precision_rappel/precision_rappel_BERT/BNU_01_Didier_text_SpaCy_bert_BIO_prediction_precision_rappel.csv'\u001b[0m\u001b[0;34m,\u001b[0m \u001b[0mnewline\u001b[0m\u001b[0;34m=\u001b[0m\u001b[0;34m''\u001b[0m\u001b[0;34m)\u001b[0m \u001b[0;32mas\u001b[0m \u001b[0mcsvfile\u001b[0m\u001b[0;34m:\u001b[0m\u001b[0;34m\u001b[0m\u001b[0;34m\u001b[0m\u001b[0m\n\u001b[0m\u001b[1;32m      5\u001b[0m     \u001b[0mspamreader\u001b[0m \u001b[0;34m=\u001b[0m \u001b[0mcsv\u001b[0m\u001b[0;34m.\u001b[0m\u001b[0mreader\u001b[0m\u001b[0;34m(\u001b[0m\u001b[0mcsvfile\u001b[0m\u001b[0;34m,\u001b[0m \u001b[0mdelimiter\u001b[0m\u001b[0;34m=\u001b[0m\u001b[0;34m' '\u001b[0m\u001b[0;34m,\u001b[0m \u001b[0mquotechar\u001b[0m\u001b[0;34m=\u001b[0m\u001b[0;34m'|'\u001b[0m\u001b[0;34m)\u001b[0m\u001b[0;34m\u001b[0m\u001b[0;34m\u001b[0m\u001b[0m\n\u001b[1;32m      6\u001b[0m     \u001b[0;32mfor\u001b[0m \u001b[0mrow\u001b[0m \u001b[0;32min\u001b[0m \u001b[0mspamreader\u001b[0m\u001b[0;34m:\u001b[0m\u001b[0;34m\u001b[0m\u001b[0;34m\u001b[0m\u001b[0m\n",
      "\u001b[0;31mFileNotFoundError\u001b[0m: [Errno 2] No such file or directory: 'db_results/SpaCy_precision_rappel/precision_rappel_BERT/BNU_01_Didier_text_SpaCy_bert_BIO_prediction_precision_rappel.csv'"
     ]
    }
   ],
   "source": [
    "# libray to read csv\n",
    "import csv\n",
    "\n",
    "with open('db_results/SpaCy_precision_rappel/precision_rappel_BERT/BNU_01_Didier_text_SpaCy_bert_BIO_prediction_precision_rappel.csv', newline='') as csvfile:\n",
    "    spamreader = csv.reader(csvfile, delimiter=' ', quotechar='|')\n",
    "    for row in spamreader:\n",
    "        print(', '.join(row))"
   ]
  },
  {
   "cell_type": "markdown",
   "id": "a4361073",
   "metadata": {},
   "source": [
    "# 2 - Step\n",
    "## read all file from the database and concatenate them \n",
    "## use Pandas to format them"
   ]
  },
  {
   "cell_type": "code",
   "execution_count": null,
   "id": "3a3a41b2",
   "metadata": {},
   "outputs": [],
   "source": [
    "import pandas as pd\n",
    "import glob\n",
    "\n",
    "path = r'db_results/SpaCy_precision_rappel/precision_rappel_lg/' # use your path\n",
    "all_files = glob.glob(path + \"/*.csv\")\n",
    "\n",
    "li = []\n",
    "\n",
    "for filename in all_files:\n",
    "    df = pd.read_csv(filename, index_col=None, header=0)\n",
    "    #li.append(df)\n",
    "\n",
    "\n",
    "df_from_each_file = (pd.read_csv(f, sep=',') for f in all_files)\n",
    "df_merged = pd.concat(df_from_each_file, ignore_index=True)\n",
    "#df_merged.to_csv( \"db_results/SpaCy_precision_rappel/all_merged_lg.csv\")\n",
    "\n",
    "print(df_merged)"
   ]
  },
  {
   "cell_type": "markdown",
   "id": "a8e78015",
   "metadata": {},
   "source": [
    "## 2.a\n",
    "### create the avarage all files"
   ]
  },
  {
   "cell_type": "code",
   "execution_count": null,
   "id": "3a8f4774",
   "metadata": {},
   "outputs": [],
   "source": [
    "average = df.groupby(df.columns, axis=1).sum()\n",
    "\n",
    "print(average)\n"
   ]
  },
  {
   "cell_type": "markdown",
   "id": "5670dbbd",
   "metadata": {},
   "source": [
    "## 2.b\n",
    "### save it as csv"
   ]
  },
  {
   "cell_type": "code",
   "execution_count": null,
   "id": "9e8cd5ed",
   "metadata": {},
   "outputs": [],
   "source": [
    "# write to file\n",
    "with open(\"db_results/SpaCy_precision_rappel/lg_all_text_average.tsv\",'w') as write_csv:\n",
    "    \n",
    "    write_csv.write(average.to_csv(sep='\\t', index=False))\n",
    "    print(write_csv)"
   ]
  },
  {
   "cell_type": "markdown",
   "id": "0c04ff4f",
   "metadata": {},
   "source": [
    "## 2.c\n",
    "### print it to verify"
   ]
  },
  {
   "cell_type": "code",
   "execution_count": null,
   "id": "7c8a4b25",
   "metadata": {},
   "outputs": [],
   "source": [
    "# libray to read csv\n",
    "import csv\n",
    "\n",
    "with open('db_results/SpaCy_precision_rappel/BERT_all_text_average.tsv', newline='') as csvfile:\n",
    "    spamreader = csv.reader(csvfile, delimiter=' ', quotechar='|')\n",
    "    for row in spamreader:\n",
    "        print(', '.join(row))"
   ]
  },
  {
   "cell_type": "code",
   "execution_count": null,
   "id": "1ded5002",
   "metadata": {},
   "outputs": [],
   "source": []
  }
 ],
 "metadata": {
  "kernelspec": {
   "display_name": "Python 3",
   "language": "python",
   "name": "python3"
  },
  "language_info": {
   "codemirror_mode": {
    "name": "ipython",
    "version": 3
   },
   "file_extension": ".py",
   "mimetype": "text/x-python",
   "name": "python",
   "nbconvert_exporter": "python",
   "pygments_lexer": "ipython3",
   "version": "3.8.5"
  }
 },
 "nbformat": 4,
 "nbformat_minor": 5
}
