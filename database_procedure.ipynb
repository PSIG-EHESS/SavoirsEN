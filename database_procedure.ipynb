{
 "cells": [
  {
   "cell_type": "markdown",
   "id": "1655f985",
   "metadata": {},
   "source": [
    "# 1 - Step\n",
    "## Import a folder and its all xml files\n",
    "### this script has as objective the dataset automatisation in all its steps "
   ]
  },
  {
   "cell_type": "code",
   "execution_count": null,
   "id": "a10c3879",
   "metadata": {},
   "outputs": [],
   "source": [
    "# retrives file support\n",
    "import glob\n",
    "# inform the path\n",
    "for file_path in glob.iglob('db_savoirs/*.xml'):\n",
    "    print(file_path)"
   ]
  },
  {
   "cell_type": "markdown",
   "id": "55b6b747",
   "metadata": {},
   "source": [
    "## 1.a\n",
    "\n",
    "### counting the files"
   ]
  },
  {
   "cell_type": "code",
   "execution_count": null,
   "id": "76c0c5ce",
   "metadata": {},
   "outputs": [],
   "source": [
    "# operation system\n",
    "import os\n",
    "# index of quantity \n",
    "print(len([iq for iq in os.scandir('db_savoirs')]))"
   ]
  },
  {
   "cell_type": "markdown",
   "id": "6403f60a",
   "metadata": {},
   "source": [
    "# 2 - Step\n",
    "## Select  only all xml files text's tags\n",
    "## Remove all tags <> [titlepage and listbib]\n",
    "## Remove all attributes "
   ]
  },
  {
   "cell_type": "code",
   "execution_count": null,
   "id": "a40960e0",
   "metadata": {
    "scrolled": true
   },
   "outputs": [],
   "source": [
    "# retrieve files\n",
    "import glob\n",
    "# operation system\n",
    "import os\n",
    "# library to work with html and xml files\n",
    "from bs4 import BeautifulSoup as BeautifulSoup\n",
    "\n",
    "# import a directory\n",
    "input_dir = \"db_savoirs/\"\n",
    "\n",
    "# open all xml files in this directory \n",
    "for file_name in glob.glob(input_dir + \"*.xml\"):\n",
    "    #named it as fp\n",
    "    with open(file_name) as fp:\n",
    "        #print(fp.read())\n",
    "        \n",
    "        # apply soap\n",
    "        soup = BeautifulSoup(fp)\n",
    "        # extract text part\n",
    "        first = soup.find('text')\n",
    "        # delete all titlepage tags    \n",
    "        for tp in first.findAll('titlepage'):\n",
    "            tp.decompose()\n",
    "        # delete all listbibl tags\n",
    "        for lb in first.findAll('listbibl'):\n",
    "            lb.decompose()\n",
    "        \n",
    "        # as it says\n",
    "        REMOVE_ATTRIBUTES = ['ref','type','xml:base', 'xml:id',]\n",
    "        # apply the loop\n",
    "        for attribute in REMOVE_ATTRIBUTES:\n",
    "            for tag in first.find_all(attrs={attribute: True}):\n",
    "                del tag[attribute]    \n",
    "\n",
    "        # directory out\n",
    "        output_dir = \"output_text/\"\n",
    "        # new files out with original's name plus _text and its new format .txt\n",
    "        results_file = \"%s%s_text.txt\"%(output_dir, os.path.splitext(os.path.basename(file_name))[0])\n",
    "        print(results_file)\n",
    "        # save it as blabla_text.txt\n",
    "        with open(results_file, 'w') as fpout: \n",
    "            fpout.write(str(first))\n",
    "            #print to verify the result\n",
    "            #print(first)"
   ]
  },
  {
   "cell_type": "markdown",
   "id": "e7bdb5f7",
   "metadata": {},
   "source": [
    "# 4 - Step\n",
    "## Normalize all files\n",
    "## Replace the tags <> [persname and placename] to asterisk\n",
    "## Prepare the files annotated handly and marked them with the asterisk\n",
    "## Correct all break lines"
   ]
  },
  {
   "cell_type": "code",
   "execution_count": null,
   "id": "b8786666",
   "metadata": {
    "scrolled": true
   },
   "outputs": [],
   "source": [
    "# retrieve files\n",
    "import glob\n",
    "# os path\n",
    "import os.path\n",
    "# operation system\n",
    "import os\n",
    "# import regular expression module\n",
    "import re\n",
    "\n",
    "# import the directory with the files .txt\n",
    "input_dir = \"output_text/\"\n",
    "\n",
    "# open all xml files in this directory \n",
    "for file_name in glob.glob(input_dir + \"*.txt\"):\n",
    "    #named it as fp\n",
    "    with open(file_name) as fp:\n",
    "        # print all files\n",
    "        #print (fp.read())\n",
    "        \n",
    "        # imforn the tags which will be replaced and what will be located in their place \n",
    "        _replacements = {\n",
    "            '<persname>': '*',\n",
    "            '</persname>': '*',\n",
    "            '<placename>': '**',\n",
    "            '</placename>': '**',\n",
    "            }\n",
    "        # get the information to replace \n",
    "        def _do_replace(fp):\n",
    "            return _replacements.get(fp.group(0))\n",
    "        # make the replacement on the files\n",
    "        def replace_tags(fp, _re=re.compile('|'.join(re.escape(r) for r in _replacements))):\n",
    "            return _re.sub(_do_replace, fp)\n",
    "            #transform the result into a variable to save it\n",
    "        new_step = (replace_tags(str(fp.read())))\n",
    "        # as it says \n",
    "        TAG_REMOVE = re.compile(r'<[^>]+>')\n",
    "        # as it says\n",
    "        def remove_tags(new_step):\n",
    "            return TAG_REMOVE.sub('', new_step)\n",
    "            # end of process\n",
    "        finished = (remove_tags(str(new_step)))\n",
    "        \n",
    "        # directory out\n",
    "        output_dir = \"output_clean/\"\n",
    "        # new files out with original's name plus _text and its new format .txt\n",
    "        results_file = \"%s%s_hand.txt\"%(output_dir, os.path.splitext(os.path.basename(file_name))[0])\n",
    "        #print(results_file)\n",
    "        # save it as (file name_text)_hand.txt\n",
    "        with open(results_file, 'w') as fp_out: \n",
    "            fp_out.write(str(finished))\n",
    "            # print it to verify the result\n",
    "            #print(finished)\n",
    "        "
   ]
  },
  {
   "cell_type": "markdown",
   "id": "bbb3d7a6",
   "metadata": {},
   "source": [
    "## 4.a \n",
    "### Prepare the clean files"
   ]
  },
  {
   "cell_type": "code",
   "execution_count": null,
   "id": "146c189c",
   "metadata": {},
   "outputs": [],
   "source": [
    "# retrieve files\n",
    "import glob\n",
    "# os path\n",
    "import os.path\n",
    "# operation system\n",
    "import os\n",
    "# import regular expression module\n",
    "import re\n",
    "\n",
    "# import the directory with the files .txt\n",
    "input_dir = \"output_text/\"\n",
    "\n",
    "# open all xml files in this directory \n",
    "for file_name in glob.glob(input_dir + \"*.txt\"):\n",
    "    #named it as fp\n",
    "    with open(file_name) as fp:\n",
    "        # print all files\n",
    "        #print (fp.read())\n",
    "       \n",
    "        # as it says    \n",
    "        def remove_tags(text):\n",
    "            rule = re.compile('<.*?>')\n",
    "            return re.sub(rule, '', text)\n",
    "        \n",
    "        clean = (remove_tags(str(fp.read())))\n",
    "        \n",
    "        # directory out\n",
    "        output_dir = \"output_clean/\"\n",
    "        # new files out with original's name plus _text and its new format .txt\n",
    "        results_file = \"%s%s_clean.txt\"%(output_dir, os.path.splitext(os.path.basename(file_name))[0])\n",
    "        #print(results_file)\n",
    "        # save it as (file name_text)_hand.txt\n",
    "        with open(results_file, 'w') as fp_out: \n",
    "            fp_out.write(str(clean))\n",
    "            # print to verify the result\n",
    "            #print(clean)\n",
    "       \n"
   ]
  },
  {
   "cell_type": "markdown",
   "id": "42aa9512",
   "metadata": {},
   "source": [
    "## 4.b\n",
    "\n",
    "### Improve all break lines"
   ]
  },
  {
   "cell_type": "code",
   "execution_count": null,
   "id": "6b962f20",
   "metadata": {},
   "outputs": [],
   "source": [
    "# retrieve files\n",
    "import glob\n",
    "# os path\n",
    "import os.path\n",
    "# operation system\n",
    "import os\n",
    "# import regular expression module\n",
    "import re\n",
    "# import \n",
    "\n",
    "# import the directory with the files .txt\n",
    "input_dir = \"output_clean/\"\n",
    "\n",
    "# open all xml files in this directory \n",
    "for file_name in glob.glob(input_dir + \"*.txt\"):\n",
    "    #named it as fp\n",
    "    with open(file_name) as fp:\n",
    "        # print all files\n",
    "        #print (fp.read())\n",
    "        \n",
    "        # remove all spaces between lines and words\n",
    "        action = (\" \".join(line.strip() for line in fp))\n",
    "    \n",
    "        # directory out\n",
    "        output_dir = \"output_clean/\"\n",
    "        # new files out with original's name plus _text and its new format .txt\n",
    "        results_file = \"%s%s.txt\"%(output_dir, os.path.splitext(os.path.basename(file_name))[0])\n",
    "        print(results_file)\n",
    "        # save it as (file name_text)_hand.txt\n",
    "        with open(results_file, 'w') as fp_out: \n",
    "            fp_out.write(str(action))\n",
    "            # print to verify the result\n",
    "            #print(action)\n",
    "             "
   ]
  },
  {
   "cell_type": "code",
   "execution_count": null,
   "id": "43ec6fe2",
   "metadata": {},
   "outputs": [],
   "source": []
  }
 ],
 "metadata": {
  "kernelspec": {
   "display_name": "Python 3",
   "language": "python",
   "name": "python3"
  },
  "language_info": {
   "codemirror_mode": {
    "name": "ipython",
    "version": 3
   },
   "file_extension": ".py",
   "mimetype": "text/x-python",
   "name": "python",
   "nbconvert_exporter": "python",
   "pygments_lexer": "ipython3",
   "version": "3.8.5"
  }
 },
 "nbformat": 4,
 "nbformat_minor": 5
}
