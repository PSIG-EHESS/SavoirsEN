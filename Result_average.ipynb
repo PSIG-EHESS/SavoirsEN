{
 "cells": [
  {
   "cell_type": "markdown",
   "id": "924ac674",
   "metadata": {},
   "source": [
    "# 1 - Step\n",
    "## read the csv file ( precision_rappel ) to verify its result"
   ]
  },
  {
   "cell_type": "code",
   "execution_count": null,
   "id": "7ed3f033",
   "metadata": {},
   "outputs": [],
   "source": [
    "# libray to read csv\n",
    "import csv\n",
    "\n",
    "with open('db_results/SpaCy_precision_rappel/precision_rappel_BERT/BNU_01_Didier_text_SpaCy_bert_BIO_prediction_precision_rappel.csv', newline='') as csvfile:\n",
    "    spamreader = csv.reader(csvfile, delimiter=' ', quotechar='|')\n",
    "    for row in spamreader:\n",
    "        print(', '.join(row))"
   ]
  },
  {
   "cell_type": "markdown",
   "id": "a4361073",
   "metadata": {},
   "source": [
    "# 2 - Step\n",
    "## read all file from the database and concatenate them \n",
    "## use Pandas to format them"
   ]
  },
  {
   "cell_type": "code",
   "execution_count": 3,
   "id": "3a3a41b2",
   "metadata": {},
   "outputs": [],
   "source": [
    "import pandas as pd\n",
    "import glob\n",
    "\n",
    "path = r'db_results/SpaCy_precision_rappel/precision_rappel_BERT/' # use your path\n",
    "all_files = glob.glob(path + \"/*.csv\")\n",
    "\n",
    "li = []\n",
    "\n",
    "for filename in all_files:\n",
    "    df = pd.read_csv(filename, index_col=None, header=0)\n",
    "    li.append(df)\n",
    "\n",
    "\n",
    "df_from_each_file = (pd.read_csv(f, sep=',') for f in all_files)\n",
    "df_merged = pd.concat(df_from_each_file, ignore_index=True)\n",
    "df_merged.to_csv( \"db_results/SpaCy_precision_rappel/all_merged_BERT.csv\")\n",
    "\n",
    "#print(df_merged)"
   ]
  },
  {
   "cell_type": "markdown",
   "id": "a8e78015",
   "metadata": {},
   "source": [
    "## 2.a\n",
    "### create the avarage all files"
   ]
  },
  {
   "cell_type": "code",
   "execution_count": null,
   "id": "3a8f4774",
   "metadata": {},
   "outputs": [],
   "source": [
    "average = df.groupby(df.columns, axis=1).sum()\n",
    "print(average)"
   ]
  },
  {
   "cell_type": "markdown",
   "id": "5670dbbd",
   "metadata": {},
   "source": [
    "## 2.b\n",
    "### save it as csv"
   ]
  },
  {
   "cell_type": "code",
   "execution_count": null,
   "id": "9e8cd5ed",
   "metadata": {},
   "outputs": [],
   "source": [
    "# write to file\n",
    "with open(\"db_results/SpaCy_precision_rappel/BERT_all_text_average.tsv\",'w') as write_csv:\n",
    "    \n",
    "    write_csv.write(average.to_csv(sep='\\t', index=False))\n",
    "    print(write_csv)"
   ]
  },
  {
   "cell_type": "markdown",
   "id": "0c04ff4f",
   "metadata": {},
   "source": [
    "## 2.c\n",
    "### print it to verify"
   ]
  },
  {
   "cell_type": "code",
   "execution_count": 4,
   "id": "7c8a4b25",
   "metadata": {},
   "outputs": [
    {
     "name": "stdout",
     "output_type": "stream",
     "text": [
      "\"Measure\tent_type\tpartial\tstrict\texact\"\n",
      "\"correct\t204\t\t222\t190\t222\"\n",
      "\"incorrect\t35\t\t0\t49\t17\"\n",
      "\"partial\t0\t\t17\t0\t0\"\n",
      "\"missed\t\t36\t\t36\t36\t36\"\n",
      "\"spurious\t167\t\t167\t167\t167\"\n",
      "\"possible\t275\t\t275\t275\t275\"\n",
      "\"actual\t\t406\t\t406\t406\t406\"\n",
      "\"precision\t0.502\t\t0.568\t0.468\t0.547\"\n",
      "\"recall\t\t0.742\t\t0.838\t0.691\t0.807\"\n",
      "\"f1\t\t0.599\t\t0.677\t0.558\t0.652\"\n"
     ]
    }
   ],
   "source": [
    "# libray to read csv\n",
    "import csv\n",
    "\n",
    "with open('db_results/SpaCy_precision_rappel/BERT_all_text_average.tsv', newline='') as csvfile:\n",
    "    spamreader = csv.reader(csvfile, delimiter=' ', quotechar='|')\n",
    "    for row in spamreader:\n",
    "        print(', '.join(row))"
   ]
  },
  {
   "cell_type": "code",
   "execution_count": null,
   "id": "1ded5002",
   "metadata": {},
   "outputs": [],
   "source": []
  },
  {
   "cell_type": "code",
   "execution_count": null,
   "id": "04c8f040",
   "metadata": {},
   "outputs": [],
   "source": []
  },
  {
   "cell_type": "code",
   "execution_count": null,
   "id": "1735ecc2",
   "metadata": {},
   "outputs": [],
   "source": []
  }
 ],
 "metadata": {
  "kernelspec": {
   "display_name": "Python 3",
   "language": "python",
   "name": "python3"
  },
  "language_info": {
   "codemirror_mode": {
    "name": "ipython",
    "version": 3
   },
   "file_extension": ".py",
   "mimetype": "text/x-python",
   "name": "python",
   "nbconvert_exporter": "python",
   "pygments_lexer": "ipython3",
   "version": "3.8.5"
  }
 },
 "nbformat": 4,
 "nbformat_minor": 5
}
