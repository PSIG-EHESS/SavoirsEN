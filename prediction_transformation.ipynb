{
 "cells": [
  {
   "cell_type": "markdown",
   "id": "b5bee45d",
   "metadata": {},
   "source": [
    "# 1-Step\n",
    "### import the files as table\n",
    "### organize them in token with their IOB format related\n",
    "### compare if column PREDICTION/clean is equal to GOLD/hand. Result is equal validity"
   ]
  },
  {
   "cell_type": "code",
   "execution_count": 1,
   "id": "fc008ff5",
   "metadata": {},
   "outputs": [],
   "source": [
    "# make a table\n",
    "import pandas as pd\n",
    "\n",
    "df_clean = pd.read_csv(\"clean_pandas/LDSII_01_Jacob_Introduction_text_clean_BIO.txt\", \n",
    "                       sep=\"\\t\", names=[\"TOKEN\", \"PREDICTION\", \"GOLD\", \"VALIDITY\"])\n",
    "df_hand = pd.read_csv(\"hand_pandas/LDSII_01_Jacob_Introduction_text_beyond_hand_BIO.txt\", \n",
    "                      sep=\"\\t\", names=[\"TOK\"])\n",
    "\n",
    "# convert the dictionary into DataFrame\n",
    "table_clean = pd.DataFrame(df_clean)\n",
    "table_hand = pd.DataFrame(df_hand)\n",
    "\n",
    "# split the column TOK in two GOLD with the IOB format and TOK_ with the tokenized text\n",
    "table_hand[['TOK_','GOLD_bio']] = table_hand.TOK.str.split(\" \",expand=True,)\n",
    "\n",
    "#df['columnF'] = pd.Series(df1['columnF'])\n",
    "table_clean['GOLD']=pd.Series(table_hand['GOLD_bio'])\n",
    "\n",
    "# delete the index\n",
    "blankIndex=[''] * len(table_clean)\n",
    "table_clean.index=blankIndex\n",
    "\n",
    "# delete the column from TABLE_HAND previews columns\n",
    "del table_hand ['TOK']\n",
    "del table_hand ['TOK_']\n",
    "\n",
    "# it allows to display entire table\n",
    "pd.set_option(\"display.max_rows\", None, \"display.max_columns\", None )\n",
    "\n",
    "# it allows to see the columns name or head \n",
    "#print(df.columns)\n",
    "\n",
    "# It makes able to see the first's four lines\n",
    "#print(table_clean.head())\n",
    "\n",
    "# function to compare columns NE-COARSE-LIT x GOLD\n",
    "def compare(x):    \n",
    "    return '1' if x['PREDICTION'] == x['GOLD'] else 'O'\n",
    "\n",
    "table_clean['VALIDITY'] = table_clean.apply(compare, axis=1)\n",
    "\n",
    "#print(table_hand)\n",
    "#print(table_clean)\n"
   ]
  },
  {
   "cell_type": "markdown",
   "id": "85a59b90",
   "metadata": {},
   "source": [
    "# 2 - Step\n",
    "## save it in db_prediction format .tsv"
   ]
  },
  {
   "cell_type": "code",
   "execution_count": 140,
   "id": "c5797bd6",
   "metadata": {},
   "outputs": [
    {
     "name": "stdout",
     "output_type": "stream",
     "text": [
      "<_io.TextIOWrapper name='db_results/prediction/LDSII_01_Jacob_Introduction_prediction.tsv' mode='w' encoding='UTF-8'>\n"
     ]
    }
   ],
   "source": [
    "# write to files\n",
    "#with open(\"db_results/prediction/LDSII_01_Jacob_Introduction_prediction.tsv\",'w') as write_csv:\n",
    "    \n",
    "    #write_csv.write(table_clean.to_csv(sep='\\t', index=False))\n",
    "    #print(write_csv)"
   ]
  },
  {
   "cell_type": "code",
   "execution_count": null,
   "id": "b439b681",
   "metadata": {},
   "outputs": [],
   "source": []
  }
 ],
 "metadata": {
  "kernelspec": {
   "display_name": "Python 3",
   "language": "python",
   "name": "python3"
  },
  "language_info": {
   "codemirror_mode": {
    "name": "ipython",
    "version": 3
   },
   "file_extension": ".py",
   "mimetype": "text/x-python",
   "name": "python",
   "nbconvert_exporter": "python",
   "pygments_lexer": "ipython3",
   "version": "3.8.5"
  }
 },
 "nbformat": 4,
 "nbformat_minor": 5
}
