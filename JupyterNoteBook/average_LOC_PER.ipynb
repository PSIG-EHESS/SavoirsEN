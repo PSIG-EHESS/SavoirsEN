{
 "cells": [
  {
   "cell_type": "code",
   "execution_count": 11,
   "id": "da9a9171",
   "metadata": {},
   "outputs": [],
   "source": [
    "#!pwd\n",
    "#db_8_SpaCy_results/SpaCy_precision_rappel_LOC_PER/SpaCy_precision_rappel_LOC_PER/"
   ]
  },
  {
   "cell_type": "code",
   "execution_count": 18,
   "id": "3f21008f",
   "metadata": {},
   "outputs": [
    {
     "name": "stdout",
     "output_type": "stream",
     "text": [
      "<_io.TextIOWrapper name='/Users/alexsoares/Desktop/EHESS/dev/Savoirs_env/db_8_SpaCy_results/SpaCy_precision_rappel_LOC_PER/sm_PER_average.tsv' mode='w' encoding='UTF-8'>\n"
     ]
    }
   ],
   "source": [
    "import pandas as pd\n",
    "import glob\n",
    "\n",
    "path = r'/Users/alexsoares/Desktop/EHESS/dev/Savoirs_env/db_8_SpaCy_results//SpaCy_precision_rappel_LOC_PER/SpaCy_precision_rappel_PER_sm/' \n",
    "all_files = glob.glob(path + \"/*.csv\")\n",
    "#print(all_files)\n",
    "\n",
    "li = []\n",
    "\n",
    "for filename in all_files:\n",
    "    df = pd.read_csv(filename, index_col=None, header=0)\n",
    "    li.append(df)\n",
    "\n",
    "# it allows to display entire table\n",
    "pd.set_option(\"display.max_rows\", None, \"display.max_columns\", None )\n",
    "\n",
    "average = df.groupby(df.columns, axis=1).sum()\n",
    "#print(average)\n",
    "\n",
    "\n",
    "\n",
    "\n",
    "# write to file\n",
    "with open(\"/Users/alexsoares/Desktop/EHESS/dev/Savoirs_env/db_8_SpaCy_results/SpaCy_precision_rappel_LOC_PER/sm_PER_average.tsv\",'w') as write_csv:\n",
    "    write_csv.write(average.to_csv(sep='\\t', index=False))\n",
    "    print(write_csv)\n",
    "\n"
   ]
  },
  {
   "cell_type": "code",
   "execution_count": null,
   "id": "831b713b",
   "metadata": {},
   "outputs": [],
   "source": []
  },
  {
   "cell_type": "code",
   "execution_count": null,
   "id": "e952bc79",
   "metadata": {},
   "outputs": [],
   "source": []
  },
  {
   "cell_type": "code",
   "execution_count": null,
   "id": "f561a82b",
   "metadata": {},
   "outputs": [],
   "source": []
  },
  {
   "cell_type": "code",
   "execution_count": null,
   "id": "d851af73",
   "metadata": {},
   "outputs": [],
   "source": []
  },
  {
   "cell_type": "code",
   "execution_count": null,
   "id": "27005ecf",
   "metadata": {},
   "outputs": [],
   "source": []
  },
  {
   "cell_type": "code",
   "execution_count": null,
   "id": "1b19780c",
   "metadata": {},
   "outputs": [],
   "source": []
  }
 ],
 "metadata": {
  "kernelspec": {
   "display_name": "Python 3",
   "language": "python",
   "name": "python3"
  },
  "language_info": {
   "codemirror_mode": {
    "name": "ipython",
    "version": 3
   },
   "file_extension": ".py",
   "mimetype": "text/x-python",
   "name": "python",
   "nbconvert_exporter": "python",
   "pygments_lexer": "ipython3",
   "version": "3.8.5"
  }
 },
 "nbformat": 4,
 "nbformat_minor": 5
}
