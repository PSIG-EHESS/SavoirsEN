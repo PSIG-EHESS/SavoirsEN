{
 "cells": [
  {
   "cell_type": "markdown",
   "id": "5e3b6730",
   "metadata": {},
   "source": [
    "# path position"
   ]
  },
  {
   "cell_type": "code",
   "execution_count": null,
   "id": "79890e38",
   "metadata": {},
   "outputs": [],
   "source": [
    "!pwd\n",
    "!python -m spacy info\n",
    "!python -m spacy validate"
   ]
  },
  {
   "cell_type": "markdown",
   "id": "2fb09e41",
   "metadata": {},
   "source": [
    "# replacing indesirable labels from files"
   ]
  },
  {
   "cell_type": "code",
   "execution_count": null,
   "id": "62265212",
   "metadata": {},
   "outputs": [],
   "source": [
    "# operation system\n",
    "import os\n",
    "# regular expression\n",
    "import re\n",
    "# retrives file support\n",
    "import glob\n",
    "# inform the path\n",
    "\n",
    "# replacement of the wrong's words\n",
    "_replacements = {\n",
    "            '/TOP_GR': 'B-LOC',\n",
    "            '/-PERSNAME_NAME': 'B-PER',\n",
    "            'BL': 'O',\n",
    "            'B-BIBL': 'O',\n",
    "            'U-CELL': 'O',\n",
    "            'I-CELL': 'O',\n",
    "            'U-CELL': 'O',\n",
    "            'IOB': 'O',    \n",
    "                }\n",
    "\n",
    "def _do_replace(text):\n",
    "    return _replacements.get(text.group(0))\n",
    "\n",
    "def replace_tags(text, _re=re.compile('|'.join(re.escape(r) for r in _replacements))):\n",
    "    return _re.sub(_do_replace, text)\n",
    "\n",
    "                \n",
    "# directory out\n",
    "output_dir = \"/Users/alexsoares/Desktop/EHESS/dev/Savoirs_env/13_db_spaCY_trainning/train_clean/\"\n",
    "\n",
    "# loop through the files\n",
    "# input directory\n",
    "for file_path in glob.iglob('/Users/alexsoares/Desktop/EHESS/dev/Savoirs_env/13_db_spaCY_trainning/train_tsv/*.tsv'):\n",
    "    #transform path into a readable file\n",
    "    f_name = (file_path)\n",
    "    #print(f_name)\n",
    "    \n",
    "    # open the variable to be read and split into words\n",
    "    with open(f_name, 'r', encoding='utf8') as f:\n",
    "        # read and split into words to count word in file\n",
    "        text = f.read()\n",
    "        #print(text)\n",
    "    \n",
    "        result = (replace_tags(text))\n",
    "        #print(result)\n",
    "\"\"\"\n",
    "        # new files out with original's name plus _text and its new format .txt\n",
    "        results_file = \"%s%s_clean.tsv\"%(output_dir, os.path.splitext(os.path.basename(f_name))[0])\n",
    "        print(results_file)\n",
    "        # save it as blabla_text.txt\n",
    "        with open(results_file, 'w') as fpout: \n",
    "            fpout.write(str(result))\n",
    "                #print to verify the result\n",
    "                #print(first)\n",
    "   \"\"\""
   ]
  },
  {
   "cell_type": "markdown",
   "id": "c2b32ef3",
   "metadata": {},
   "source": [
    "# reading multiple files"
   ]
  },
  {
   "cell_type": "code",
   "execution_count": null,
   "id": "ca32a4f9",
   "metadata": {},
   "outputs": [],
   "source": [
    "# operation system\n",
    "import os\n",
    "# regular expression\n",
    "import re\n",
    "# retrives file support\n",
    "import glob\n",
    "# inform the path\n",
    "\n",
    "for file_path in glob.iglob('/Users/alexsoares/Desktop/EHESS/dev/Savoirs_env/13_db_spaCY_tr_clean/*.tsv'):\n",
    "    #transform path into a readable file\n",
    "    f_name = (file_path)\n",
    "    #print(f_name)\n",
    "    \n",
    "    # open the variable to be read and split into words\n",
    "    with open(f_name, 'r', encoding='utf8') as f:\n",
    "        # read and split into words to count word in file\n",
    "        text = f.read()\n",
    "        #print(text)\n"
   ]
  },
  {
   "cell_type": "markdown",
   "id": "4416e2eb",
   "metadata": {},
   "source": [
    "# detecting labels from files \n",
    "## returning line and labels"
   ]
  },
  {
   "cell_type": "code",
   "execution_count": null,
   "id": "e0bb3b9b",
   "metadata": {},
   "outputs": [],
   "source": [
    "# operation system\n",
    "import os\n",
    "# regular expression\n",
    "import re\n",
    "# retrives file support\n",
    "import glob\n",
    "# regular expressions module\n",
    "import re\n",
    "\n",
    "# input a directory\n",
    "input_dir = \"/Users/alexsoares/Desktop/EHESS/dev/Savoirs_env/13_db_spaCY_trainning/\"\n",
    "\n",
    "# list of indesirable tags\n",
    "word_list = [  \"C\", \"OOC\", \"BIBL\", \"B-IL\"]\n",
    "\n",
    "\n",
    "def search_multiple_strings_in_file(file_name, list_of_strings):\n",
    "    \"\"\"Get line from the file along with line numbers, which contains any string from the list\"\"\"\n",
    "    line_number = 0\n",
    "    list_of_results = []\n",
    "    # Open the file in read only mode\n",
    "    with open(file_name, 'r') as read_obj:\n",
    "        # Read all lines in the file one by one\n",
    "        for line in read_obj:\n",
    "            line_number += 1\n",
    "            # For each line, check if line contains any string from the list of strings\n",
    "            for string_to_search in list_of_strings:\n",
    "                if string_to_search in line:\n",
    "                    # If any string is found in line, then append that line along with line number in list\n",
    "                    list_of_results.append((string_to_search, line_number, line.rstrip()))\n",
    "    # Return list of tuples containing matched string, line numbers and lines where string is found\n",
    "    return list_of_results\n",
    "\n",
    "\n",
    "# open all tsv files in this directory \n",
    "for file_name in glob.glob(input_dir + \"*.tsv\"):\n",
    "    print(file_name) \n",
    "    # check if string 'indesirable list' is found in file \n",
    "    # search for given strings in the file \n",
    "    matched_lines = search_multiple_strings_in_file(file_name, word_list)\n",
    "    print('Total Matched lines : ', len(matched_lines))\n",
    "    for elem in matched_lines:\n",
    "        print('Word = ', elem[0], ' :: Line Number = ', elem[1], ' :: Line = ', elem[2])   \n",
    "        "
   ]
  },
  {
   "cell_type": "markdown",
   "id": "304ad98e",
   "metadata": {},
   "source": [
    "# concatenate files without reading\n",
    "\n"
   ]
  },
  {
   "cell_type": "code",
   "execution_count": null,
   "id": "ac595e78",
   "metadata": {},
   "outputs": [],
   "source": [
    "# drive through directory\n",
    "import glob\n",
    "# creation of file without reading\n",
    "import shutil\n",
    "\n",
    "# output directory and file name\n",
    "outfilename = '/Users/alexsoares/Desktop/EHESS/dev/Savoirs_env/13_db_spaCY_trainning/train_concatenated_2.tsv'\n",
    "\n",
    "# writing the output file\n",
    "with open(outfilename, 'wb') as outfile:\n",
    "    # loop trough the input directory\n",
    "    for filename in glob.glob('/Users/alexsoares/Desktop/EHESS/dev/Savoirs_env/13_db_spaCY_trainning/train_tsv_clean/*.tsv'):\n",
    "        # create a condition\n",
    "        if filename == outfilename:\n",
    "            # don't want to copy the output into the output\n",
    "            continue\n",
    "        # reading the file to concatenate them\n",
    "        with open(filename, 'rb') as readfile:\n",
    "            # close the transformation\n",
    "            shutil.copyfileobj(readfile, outfile)\n",
    "            \n",
    "            "
   ]
  },
  {
   "cell_type": "code",
   "execution_count": null,
   "id": "2eb79e0e",
   "metadata": {},
   "outputs": [],
   "source": []
  },
  {
   "cell_type": "code",
   "execution_count": null,
   "id": "7992be80",
   "metadata": {},
   "outputs": [],
   "source": [
    "!pwd"
   ]
  },
  {
   "cell_type": "markdown",
   "id": "6f2dd255",
   "metadata": {},
   "source": [
    "# convert Json files into spacy training files"
   ]
  },
  {
   "cell_type": "code",
   "execution_count": null,
   "id": "4e9962d5",
   "metadata": {},
   "outputs": [],
   "source": [
    "\n",
    "!python -m spacy convert /Users/alexsoares/Desktop/EHESS/dev/Savoirs_env/13_db_spaCY_trainning/data_clean_2/data_test_concatenated_2.json /Users/alexsoares/Desktop/EHESS/dev/Savoirs_env/13_db_spaCY_trainning/ -t spacy"
   ]
  },
  {
   "cell_type": "code",
   "execution_count": null,
   "id": "5e02397a",
   "metadata": {},
   "outputs": [],
   "source": []
  },
  {
   "cell_type": "code",
   "execution_count": null,
   "id": "2e3af7ae",
   "metadata": {},
   "outputs": [],
   "source": [
    "Word =  C  :: Line Number =  112430  :: Line =  France\tOOC\n",
    "Word =  OOC  :: Line Number =  112430  :: Line =  France\tOOC\n",
    "Word =  C  :: Line Number =  112470  :: Line =  Cette\tO\n",
    "Word =  C  :: Line Number =  112677  :: Line =  France\tOOC\n",
    "Word =  OOC  :: Line Number =  112677  :: Line =  France\tOOC"
   ]
  },
  {
   "cell_type": "code",
   "execution_count": null,
   "id": "13680b7c",
   "metadata": {},
   "outputs": [],
   "source": []
  },
  {
   "cell_type": "code",
   "execution_count": null,
   "id": "8fbe30e5",
   "metadata": {},
   "outputs": [],
   "source": []
  },
  {
   "cell_type": "code",
   "execution_count": null,
   "id": "e2962eb3",
   "metadata": {},
   "outputs": [],
   "source": []
  },
  {
   "cell_type": "code",
   "execution_count": null,
   "id": "e1a766b8",
   "metadata": {},
   "outputs": [],
   "source": []
  },
  {
   "cell_type": "code",
   "execution_count": null,
   "id": "7602aae0",
   "metadata": {},
   "outputs": [],
   "source": []
  },
  {
   "cell_type": "code",
   "execution_count": null,
   "id": "ac547ddb",
   "metadata": {},
   "outputs": [],
   "source": []
  },
  {
   "cell_type": "code",
   "execution_count": null,
   "id": "f8046a7f",
   "metadata": {},
   "outputs": [],
   "source": []
  },
  {
   "cell_type": "code",
   "execution_count": null,
   "id": "e6a64845",
   "metadata": {},
   "outputs": [],
   "source": []
  }
 ],
 "metadata": {
  "kernelspec": {
   "display_name": "Python 3",
   "language": "python",
   "name": "python3"
  },
  "language_info": {
   "codemirror_mode": {
    "name": "ipython",
    "version": 3
   },
   "file_extension": ".py",
   "mimetype": "text/x-python",
   "name": "python",
   "nbconvert_exporter": "python",
   "pygments_lexer": "ipython3",
   "version": "3.8.5"
  }
 },
 "nbformat": 4,
 "nbformat_minor": 5
}
