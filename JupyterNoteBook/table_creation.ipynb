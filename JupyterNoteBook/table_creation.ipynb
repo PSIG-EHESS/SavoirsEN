{
 "cells": [
  {
   "cell_type": "markdown",
   "id": "991b88ea",
   "metadata": {},
   "source": [
    "# 1 - Step\n",
    "## import  savoirs database "
   ]
  },
  {
   "cell_type": "code",
   "execution_count": null,
   "id": "0520405c",
   "metadata": {
    "scrolled": true
   },
   "outputs": [],
   "source": [
    "# retrives file support\n",
    "import glob\n",
    "# inform the path\n",
    "for file_path in glob.iglob('db_savoirs/*.xml'):\n",
    "    f_name = (file_path)\n",
    "    file_name = f_name\n",
    "    #print(file_name)\n"
   ]
  },
  {
   "cell_type": "markdown",
   "id": "b5e90270",
   "metadata": {},
   "source": [
    "## 1.a - count the files"
   ]
  },
  {
   "cell_type": "code",
   "execution_count": null,
   "id": "ce7c4f05",
   "metadata": {},
   "outputs": [],
   "source": [
    "# operation system\n",
    "import os\n",
    "# index of quantity \n",
    "files_quantity = (len([iq for iq in os.scandir('db_savoirs')]))\n",
    "#print(files_quantity)"
   ]
  },
  {
   "cell_type": "markdown",
   "id": "fb46b39f",
   "metadata": {},
   "source": [
    "# 2 - Step\n",
    "\n",
    "## import the files to count persname and placename numbers"
   ]
  },
  {
   "cell_type": "code",
   "execution_count": null,
   "id": "effcd1b3",
   "metadata": {
    "scrolled": true
   },
   "outputs": [],
   "source": [
    "# import table creation\n",
    "import pandas as pd\n",
    "# import table creator\n",
    "from tabulate import tabulate\n",
    "# import regular expressions\n",
    "import re\n",
    "# retrieve files\n",
    "import glob\n",
    "# operation system\n",
    "import os\n",
    "# library to work with html and xml files\n",
    "from bs4 import BeautifulSoup as BeautifulSoup\n",
    "\n",
    "# import a directory\n",
    "input_dir = \"db_savoirs/\"\n",
    "\n",
    "# open all xml files in this directory \n",
    "for file_name in glob.glob(input_dir + \"*.xml\"):\n",
    "    #named it as fp\n",
    "    with open(file_name) as fp:\n",
    "        #print(fp.read())\n",
    "        \n",
    "        # apply soap\n",
    "        soup = BeautifulSoup(fp)\n",
    "        \n",
    "        # extract text part\n",
    "        first = soup.find('text')\n",
    "        #print(first)\n",
    "        \n",
    "        #delete all attributes    \n",
    "        for tag in first.findAll(True): \n",
    "            del tag.attrs\n",
    "        # as it says \n",
    "        TAG_REMOVE = re.compile(r'<[^>]+>')\n",
    "        # as it says\n",
    "        def remove_tags(soup):\n",
    "            return TAG_REMOVE.sub('', soup)\n",
    "            # end of process\n",
    "        next_step = (remove_tags(str(soup)))     \n",
    "            \n",
    "        \n",
    "        #Pers numbers \n",
    "        persname= soup.find_all('persname')\n",
    "        #print(remove_tags(str(persname)))\n",
    "        pers_numbers =(len(persname))\n",
    "        #print(pers_numbers)\n",
    "        \n",
    "        \n",
    "        # Place numbers\n",
    "        placename = soup.find_all('placename')\n",
    "        #print(remove_tags(str(placename)))\n",
    "        place_numbers =(len(placename))\n",
    "        #print (place_numbers)\n",
    "        \n",
    "        "
   ]
  },
  {
   "cell_type": "markdown",
   "id": "53f9c146",
   "metadata": {},
   "source": [
    "# 3 - Step\n",
    "## how to create a table?\n",
    "## I did not arrived yet"
   ]
  },
  {
   "cell_type": "code",
   "execution_count": null,
   "id": "153f335c",
   "metadata": {},
   "outputs": [],
   "source": [
    "# import math \n",
    "import numpy as np\n",
    "# import table creation\n",
    "import pandas as pd\n",
    "# import table creator\n",
    "from tabulate import tabulate\n",
    "\n"
   ]
  },
  {
   "cell_type": "markdown",
   "id": "3b012c96",
   "metadata": {},
   "source": [
    "# 4 - Step\n",
    "\n",
    "## count the all words in each file"
   ]
  },
  {
   "cell_type": "code",
   "execution_count": null,
   "id": "83516d23",
   "metadata": {},
   "outputs": [],
   "source": [
    "# retrives file support\n",
    "import glob\n",
    "# inform the path\n",
    "for file_path in glob.iglob('db_conll/*.conll'):\n",
    "    #transform path into a readable file\n",
    "    f_name = (file_path)\n",
    "    #then transform it into a variable\n",
    "    file_name = f_name\n",
    "    #print(file_name)\n",
    "    \n",
    "    # open the variable to be read and split into words\n",
    "    with open(file_name, 'r', encoding='utf8') as f:\n",
    "        # read and split into words to count word in file\n",
    "        text = f.read().split()\n",
    "        #print(len(text))"
   ]
  },
  {
   "cell_type": "code",
   "execution_count": null,
   "id": "129123df",
   "metadata": {},
   "outputs": [],
   "source": []
  }
 ],
 "metadata": {
  "kernelspec": {
   "display_name": "Python 3",
   "language": "python",
   "name": "python3"
  },
  "language_info": {
   "codemirror_mode": {
    "name": "ipython",
    "version": 3
   },
   "file_extension": ".py",
   "mimetype": "text/x-python",
   "name": "python",
   "nbconvert_exporter": "python",
   "pygments_lexer": "ipython3",
   "version": "3.8.5"
  }
 },
 "nbformat": 4,
 "nbformat_minor": 5
}
