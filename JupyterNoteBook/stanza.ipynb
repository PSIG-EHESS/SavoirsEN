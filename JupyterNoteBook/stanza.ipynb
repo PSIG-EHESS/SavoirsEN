{
 "cells": [
  {
   "cell_type": "code",
   "execution_count": null,
   "id": "d2998b40",
   "metadata": {},
   "outputs": [],
   "source": []
  },
  {
   "cell_type": "code",
   "execution_count": null,
   "id": "ae5131c4",
   "metadata": {
    "scrolled": true
   },
   "outputs": [
    {
     "name": "stderr",
     "output_type": "stream",
     "text": [
      "2021-07-01 13:49:23 INFO: Loading these models for language: fr (French):\n",
      "=======================\n",
      "| Processor | Package |\n",
      "-----------------------\n",
      "| tokenize  | gsd     |\n",
      "| ner       | wikiner |\n",
      "=======================\n",
      "\n",
      "2021-07-01 13:49:23 INFO: Use device: cpu\n",
      "2021-07-01 13:49:23 INFO: Loading: tokenize\n",
      "2021-07-01 13:49:23 INFO: Loading: ner\n"
     ]
    },
    {
     "name": "stdout",
     "output_type": "stream",
     "text": [
      "/Users/alexsoares/Desktop/EHESS/dev/Savoirs_env/db_6_TOKenized_text/\n"
     ]
    },
    {
     "name": "stderr",
     "output_type": "stream",
     "text": [
      "2021-07-01 13:49:27 INFO: Done loading processors!\n"
     ]
    },
    {
     "name": "stdout",
     "output_type": "stream",
     "text": [
      "<stanza.pipeline.core.Pipeline object at 0x12e842d30>\n",
      "BNU_01_Didier_text_tokenized\n",
      "/Users/alexsoares/Desktop/EHESS/dev/Savoirs_env/test_db/BNU_01_Didier_text_tokenized_prediction.tsv\n"
     ]
    }
   ],
   "source": [
    "import re\n",
    "import stanza, os\n",
    "\n",
    "\n",
    "# input directory\n",
    "location = '/Users/alexsoares/Desktop/EHESS/dev/Savoirs_env/db_6_TOKenized_text/'\n",
    "print(location)\n",
    "nlp = stanza.Pipeline(lang='fr', processors='tokenize,ner', tokenize_pretokenized=True)\n",
    "print(nlp)\n",
    "for r, d, f in os.walk(location):\n",
    "    for item in f:\n",
    "        if item.endswith('_clean.txt'):\n",
    "            with open(os.path.join(r, item)) as fn:\n",
    "                item2 = re.sub(\"_clean.txt\", \"\", item)\n",
    "                print(item2)\n",
    "                \n",
    "\n",
    "                # output path    \n",
    "                r2 = re.sub(\".+(/.+?)$\", \"/Users/alexsoares/Desktop/EHESS/dev/Savoirs_env/test_db/\", r)\n",
    "                pathtouse = str(os.path.join(r2, item2))+\"_prediction.tsv\"\n",
    "                \n",
    "                fop = open(pathtouse, \"w\")\n",
    "                print(pathtouse)\n",
    "                words = [[line.strip() for line in fn]]\n",
    "                #print(words)\n",
    "                doc = nlp(words)\n",
    "                for sent in doc.sentences:\n",
    "                    for token in sent.tokens:\n",
    "                        fop.write(token.text+\"\\t\"+token.ner+\"\\n\")\n",
    "                fop.close()"
   ]
  },
  {
   "cell_type": "code",
   "execution_count": null,
   "id": "9e600ad3",
   "metadata": {},
   "outputs": [],
   "source": []
  },
  {
   "cell_type": "code",
   "execution_count": null,
   "id": "0d36e003",
   "metadata": {},
   "outputs": [],
   "source": []
  },
  {
   "cell_type": "code",
   "execution_count": null,
   "id": "71335ea7",
   "metadata": {},
   "outputs": [],
   "source": []
  },
  {
   "cell_type": "code",
   "execution_count": 2,
   "id": "e58a280c",
   "metadata": {},
   "outputs": [
    {
     "name": "stdout",
     "output_type": "stream",
     "text": [
      "/Users/alexsoares/Desktop/EHESS/dev/Savoirs_env\r\n"
     ]
    }
   ],
   "source": [
    "# where i am\n",
    "#!pwd\n"
   ]
  },
  {
   "cell_type": "code",
   "execution_count": null,
   "id": "504a9528",
   "metadata": {},
   "outputs": [],
   "source": []
  },
  {
   "cell_type": "code",
   "execution_count": null,
   "id": "55dab052",
   "metadata": {},
   "outputs": [],
   "source": []
  },
  {
   "cell_type": "code",
   "execution_count": null,
   "id": "d556c4a5",
   "metadata": {},
   "outputs": [],
   "source": []
  },
  {
   "cell_type": "code",
   "execution_count": null,
   "id": "95fd2506",
   "metadata": {},
   "outputs": [],
   "source": []
  }
 ],
 "metadata": {
  "kernelspec": {
   "display_name": "Python 3",
   "language": "python",
   "name": "python3"
  },
  "language_info": {
   "codemirror_mode": {
    "name": "ipython",
    "version": 3
   },
   "file_extension": ".py",
   "mimetype": "text/x-python",
   "name": "python",
   "nbconvert_exporter": "python",
   "pygments_lexer": "ipython3",
   "version": "3.8.5"
  }
 },
 "nbformat": 4,
 "nbformat_minor": 5
}
