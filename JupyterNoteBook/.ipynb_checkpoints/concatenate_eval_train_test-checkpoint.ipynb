{
 "cells": [
  {
   "cell_type": "markdown",
   "id": "8cdc0b34",
   "metadata": {},
   "source": [
    "# 1 - Step \n",
    "## concatenate files "
   ]
  },
  {
   "cell_type": "code",
   "execution_count": 3,
   "id": "ba14538d",
   "metadata": {},
   "outputs": [],
   "source": [
    "# drive through directory\n",
    "import glob\n",
    "# creation of file without reading\n",
    "import shutil\n",
    "\n",
    "# output directory and file name\n",
    "outfilename = '/Users/alexsoares/Desktop/EHESS/dev/Savoirs_env/13_db_spaCY_trainning/data_train_concatenated.tsv'\n",
    "\n",
    "# writing the output file\n",
    "with open(outfilename, 'wb') as outfile:\n",
    "    # loop trough the input directory\n",
    "    for filename in glob.glob('/Users/alexsoares/Desktop/EHESS/dev/Savoirs_env/13_db_spaCY_trainning/train_data/*.tsv'):\n",
    "        # create a condition\n",
    "        if filename == outfilename:\n",
    "            # don't want to copy the output into the output\n",
    "            continue\n",
    "        # reading the file to concatenate them\n",
    "        with open(filename, 'rb') as readfile:\n",
    "            # close the transformation\n",
    "            shutil.copyfileobj(readfile, outfile)\n",
    "            \n",
    "            "
   ]
  },
  {
   "cell_type": "code",
   "execution_count": null,
   "id": "137c4d42",
   "metadata": {},
   "outputs": [],
   "source": []
  }
 ],
 "metadata": {
  "kernelspec": {
   "display_name": "Python 3",
   "language": "python",
   "name": "python3"
  },
  "language_info": {
   "codemirror_mode": {
    "name": "ipython",
    "version": 3
   },
   "file_extension": ".py",
   "mimetype": "text/x-python",
   "name": "python",
   "nbconvert_exporter": "python",
   "pygments_lexer": "ipython3",
   "version": "3.8.5"
  }
 },
 "nbformat": 4,
 "nbformat_minor": 5
}
